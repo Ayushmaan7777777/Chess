{
  "nbformat": 4,
  "nbformat_minor": 0,
  "metadata": {
    "colab": {
      "provenance": [],
      "authorship_tag": "ABX9TyN7EgPWwI6Dxa8zcwReBJBe",
      "include_colab_link": true
    },
    "kernelspec": {
      "name": "python3",
      "display_name": "Python 3"
    },
    "language_info": {
      "name": "python"
    }
  },
  "cells": [
    {
      "cell_type": "markdown",
      "metadata": {
        "id": "view-in-github",
        "colab_type": "text"
      },
      "source": [
        "<a href=\"https://colab.research.google.com/github/Ayushmaan7777777/Chess/blob/main/Untitled0_java.ipynb\" target=\"_parent\"><img src=\"https://colab.research.google.com/assets/colab-badge.svg\" alt=\"Open In Colab\"/></a>"
      ]
    },
    {
      "cell_type": "code",
      "source": [
        "!apt-get install -y openjdk-17-jdk"
      ],
      "metadata": {
        "colab": {
          "base_uri": "https://localhost:8080/"
        },
        "id": "geUA4QwUDCe1",
        "outputId": "3de6ec50-b644-455b-8b13-660c489ff2b3"
      },
      "execution_count": 1,
      "outputs": [
        {
          "output_type": "stream",
          "name": "stdout",
          "text": [
            "Reading package lists... Done\n",
            "Building dependency tree... Done\n",
            "Reading state information... Done\n",
            "openjdk-17-jdk is already the newest version (17.0.16+8~us1-0ubuntu1~22.04.1).\n",
            "0 upgraded, 0 newly installed, 0 to remove and 38 not upgraded.\n"
          ]
        }
      ]
    },
    {
      "cell_type": "code",
      "source": [
        "%%writefile DocumentVersion.java\n",
        "import java.time.LocalDateTime;\n",
        "\n",
        "public class DocumentVersion {\n",
        "    private final int versionId;\n",
        "    private final String content;\n",
        "    private final LocalDateTime timestamp;\n",
        "\n",
        "    public DocumentVersion(int versionId, String content) {\n",
        "        this.versionId = versionId;\n",
        "        this.content = content;\n",
        "        this.timestamp = LocalDateTime.now();\n",
        "    }\n",
        "\n",
        "    public int getVersionId() {\n",
        "        return versionId;\n",
        "    }\n",
        "\n",
        "    public String getContent() {\n",
        "        return content;\n",
        "    }\n",
        "\n",
        "    public LocalDateTime getTimestamp() {\n",
        "        return timestamp;\n",
        "    }\n",
        "\n",
        "    @Override\n",
        "    public String toString() {\n",
        "        return \"Version \" + versionId + \" @ \" + timestamp + \": \" + content;\n",
        "    }\n",
        "}\n"
      ],
      "metadata": {
        "colab": {
          "base_uri": "https://localhost:8080/"
        },
        "id": "u33b_gUSrB18",
        "outputId": "5f0edb08-e2e4-409e-d5a5-e30972da804b"
      },
      "execution_count": 2,
      "outputs": [
        {
          "output_type": "stream",
          "name": "stdout",
          "text": [
            "Overwriting DocumentVersion.java\n"
          ]
        }
      ]
    },
    {
      "cell_type": "code",
      "source": [
        "%%writefile FileVersionHistory.java\n",
        "import java.util.*;\n",
        "\n",
        "public class FileVersionHistory {\n",
        "    private final Stack<DocumentVersion> undoStack = new Stack<>();\n",
        "    private final Stack<DocumentVersion> redoStack = new Stack<>();\n",
        "    private final Map<Integer, DocumentVersion> versionMap = new HashMap<>();\n",
        "    private int versionCounter = 0;\n",
        "\n",
        "    public void addVersion(String content) {\n",
        "        versionCounter++;\n",
        "        DocumentVersion newVersion = new DocumentVersion(versionCounter, content);\n",
        "        undoStack.push(newVersion);\n",
        "        versionMap.put(versionCounter, newVersion);\n",
        "        redoStack.clear();\n",
        "        System.out.println(\"Added: \" + newVersion);\n",
        "    }\n",
        "\n",
        "    public void undo() {\n",
        "        if (undoStack.isEmpty()) {\n",
        "            System.out.println(\"Nothing to undo.\");\n",
        "            return;\n",
        "        }\n",
        "        DocumentVersion last = undoStack.pop();\n",
        "        redoStack.push(last);\n",
        "        System.out.println(\"Undo: \" + last);\n",
        "    }\n",
        "\n",
        "    public void redo() {\n",
        "        if (redoStack.isEmpty()) {\n",
        "            System.out.println(\"Nothing to redo.\");\n",
        "            return;\n",
        "        }\n",
        "        DocumentVersion restored = redoStack.pop();\n",
        "        undoStack.push(restored);\n",
        "        System.out.println(\"Redo: \" + restored);\n",
        "    }\n",
        "\n",
        "    public void showCurrentVersion() {\n",
        "        if (undoStack.isEmpty()) {\n",
        "            System.out.println(\"No versions created yet.\");\n",
        "        } else {\n",
        "            System.out.println(\"Current Version: \" + undoStack.peek());\n",
        "        }\n",
        "    }\n",
        "\n",
        "    public void showTimeline() {\n",
        "        System.out.println(\"\\n--- Timeline ---\");\n",
        "        for (int i = 1; i <= versionCounter; i++) {\n",
        "            DocumentVersion v = versionMap.get(i);\n",
        "            if (v != null) {\n",
        "                System.out.println(\"Version \" + i + \": \" + v.getTimestamp());\n",
        "            }\n",
        "        }\n",
        "        System.out.println(\"----------------\\n\");\n",
        "    }\n",
        "}\n"
      ],
      "metadata": {
        "colab": {
          "base_uri": "https://localhost:8080/"
        },
        "id": "R9xiu2Yyx91J",
        "outputId": "4f512202-d184-4d2e-ae82-87601b76083b"
      },
      "execution_count": 3,
      "outputs": [
        {
          "output_type": "stream",
          "name": "stdout",
          "text": [
            "Overwriting FileVersionHistory.java\n"
          ]
        }
      ]
    },
    {
      "cell_type": "code",
      "source": [
        "%%writefile VersionControlSystem.java\n",
        "import java.util.*;\n",
        "\n",
        "public class VersionControlSystem {\n",
        "    private final Map<String, FileVersionHistory> fileIndex = new HashMap<>();\n",
        "\n",
        "    public FileVersionHistory getOrCreateFile(String fileName) {\n",
        "        return fileIndex.computeIfAbsent(fileName, k -> new FileVersionHistory());\n",
        "    }\n",
        "\n",
        "    public Set<String> listFiles() {\n",
        "        return fileIndex.keySet();\n",
        "    }\n",
        "}\n"
      ],
      "metadata": {
        "colab": {
          "base_uri": "https://localhost:8080/"
        },
        "id": "RBfOkIW8rHrQ",
        "outputId": "2b9a22b4-1a01-4460-b55c-d41f4e7aa832"
      },
      "execution_count": 4,
      "outputs": [
        {
          "output_type": "stream",
          "name": "stdout",
          "text": [
            "Overwriting VersionControlSystem.java\n"
          ]
        }
      ]
    },
    {
      "cell_type": "code",
      "source": [
        "%%writefile Main.java\n",
        "import java.util.Scanner;\n",
        "\n",
        "public class Main {\n",
        "    public static void main(String[] args) {\n",
        "        VersionControlSystem vcs = new VersionControlSystem();\n",
        "        Scanner scanner = new Scanner(System.in);\n",
        "\n",
        "        // Add some predefined files and versions\n",
        "        FileVersionHistory file1 = vcs.getOrCreateFile(\"report.txt\");\n",
        "        file1.addVersion(\"Initial draft of report.\");\n",
        "        file1.addVersion(\"Added executive summary.\");\n",
        "\n",
        "        FileVersionHistory file2 = vcs.getOrCreateFile(\"notes.txt\");\n",
        "        file2.addVersion(\"Lecture 1 notes.\");\n",
        "        file2.addVersion(\"Lecture 2 notes with diagrams.\");\n",
        "\n",
        "        while (true) {\n",
        "            System.out.println(\"\\n====== Version Control Menu ======\");\n",
        "            System.out.println(\"1. Select file\");\n",
        "            System.out.println(\"2. List all files\");\n",
        "            System.out.println(\"3. Exit\");\n",
        "            System.out.print(\"Choose an option: \");\n",
        "            String choice = scanner.nextLine();\n",
        "\n",
        "            switch (choice) {\n",
        "                case \"1\":\n",
        "                    System.out.print(\"Enter file name: \");\n",
        "                    String fileName = scanner.nextLine();\n",
        "                    FileVersionHistory file = vcs.getOrCreateFile(fileName);\n",
        "                    fileMenu(scanner, file, fileName);\n",
        "                    break;\n",
        "                case \"2\":\n",
        "                    System.out.println(\"Files in system:\");\n",
        "                    for (String name : vcs.listFiles()) {\n",
        "                        System.out.println(\"- \" + name);\n",
        "                    }\n",
        "                    break;\n",
        "                case \"3\":\n",
        "                    System.out.println(\"Exiting...\");\n",
        "                    return;\n",
        "                default:\n",
        "                    System.out.println(\"Invalid choice.\");\n",
        "            }\n",
        "        }\n",
        "    }\n",
        "\n",
        "    public static void fileMenu(Scanner scanner, FileVersionHistory file, String fileName) {\n",
        "        while (true) {\n",
        "            System.out.println(\"\\n--- File: \" + fileName + \" ---\");\n",
        "            System.out.println(\"1. Add version\");\n",
        "            System.out.println(\"2. Undo\");\n",
        "            System.out.println(\"3. Redo\");\n",
        "            System.out.println(\"4. Show current version\");\n",
        "            System.out.println(\"5. Show timeline\");\n",
        "            System.out.println(\"6. Back to main menu\");\n",
        "            System.out.print(\"Choose an option: \");\n",
        "            String choice = scanner.nextLine();\n",
        "\n",
        "            switch (choice) {\n",
        "                case \"1\":\n",
        "                    System.out.print(\"Enter content: \");\n",
        "                    String content = scanner.nextLine();\n",
        "                    file.addVersion(content);\n",
        "                    break;\n",
        "                case \"2\":\n",
        "                    file.undo();\n",
        "                    break;\n",
        "                case \"3\":\n",
        "                    file.redo();\n",
        "                    break;\n",
        "                case \"4\":\n",
        "                    file.showCurrentVersion();\n",
        "                    break;\n",
        "                case \"5\":\n",
        "                    file.showTimeline();\n",
        "                    break;\n",
        "                case \"6\":\n",
        "                    return;\n",
        "                default:\n",
        "                    System.out.println(\"Invalid choice.\");\n",
        "            }\n",
        "        }\n",
        "    }\n",
        "}\n",
        "\n"
      ],
      "metadata": {
        "colab": {
          "base_uri": "https://localhost:8080/"
        },
        "id": "lLPA_hWiraSi",
        "outputId": "c0baef6a-946b-4691-f0fc-dbe781c11804"
      },
      "execution_count": 5,
      "outputs": [
        {
          "output_type": "stream",
          "name": "stdout",
          "text": [
            "Overwriting Main.java\n"
          ]
        }
      ]
    },
    {
      "cell_type": "code",
      "source": [
        "!javac DocumentVersion.java VersionControlSystem.java Main.java\n",
        "!java Main.java"
      ],
      "metadata": {
        "colab": {
          "base_uri": "https://localhost:8080/"
        },
        "id": "xqDsjMN2ris5",
        "outputId": "052c21fb-ac00-4043-decb-852e5f533efb"
      },
      "execution_count": null,
      "outputs": [
        {
          "output_type": "stream",
          "name": "stdout",
          "text": [
            "Added: Version 1 @ 2025-10-08T12:58:19.767679575: Initial draft of report.\n",
            "Added: Version 2 @ 2025-10-08T12:58:19.785595150: Added executive summary.\n",
            "Added: Version 1 @ 2025-10-08T12:58:19.785757053: Lecture 1 notes.\n",
            "Added: Version 2 @ 2025-10-08T12:58:19.785865792: Lecture 2 notes with diagrams.\n",
            "\n",
            "====== Version Control Menu ======\n",
            "1. Select file\n",
            "2. List all files\n",
            "3. Exit\n",
            "Choose an option: 2\n",
            "Files in system:\n",
            "- notes.txt\n",
            "- report.txt\n",
            "\n",
            "====== Version Control Menu ======\n",
            "1. Select file\n",
            "2. List all files\n",
            "3. Exit\n",
            "Choose an option: 1\n",
            "Enter file name: notes.txt\n",
            "\n",
            "--- File: notes.txt ---\n",
            "1. Add version\n",
            "2. Undo\n",
            "3. Redo\n",
            "4. Show current version\n",
            "5. Show timeline\n",
            "6. Back to main menu\n",
            "Choose an option: 1\n",
            "Enter content: sdlfdasfjsadf\n",
            "Added: Version 3 @ 2025-10-08T12:58:49.634396159: sdlfdasfjsadf\n",
            "\n",
            "--- File: notes.txt ---\n",
            "1. Add version\n",
            "2. Undo\n",
            "3. Redo\n",
            "4. Show current version\n",
            "5. Show timeline\n",
            "6. Back to main menu\n",
            "Choose an option: 3\n",
            "Nothing to redo.\n",
            "\n",
            "--- File: notes.txt ---\n",
            "1. Add version\n",
            "2. Undo\n",
            "3. Redo\n",
            "4. Show current version\n",
            "5. Show timeline\n",
            "6. Back to main menu\n",
            "Choose an option: 2\n",
            "Undo: Version 3 @ 2025-10-08T12:58:49.634396159: sdlfdasfjsadf\n",
            "\n",
            "--- File: notes.txt ---\n",
            "1. Add version\n",
            "2. Undo\n",
            "3. Redo\n",
            "4. Show current version\n",
            "5. Show timeline\n",
            "6. Back to main menu\n",
            "Choose an option: 4\n",
            "Current Version: Version 2 @ 2025-10-08T12:58:19.785865792: Lecture 2 notes with diagrams.\n",
            "\n",
            "--- File: notes.txt ---\n",
            "1. Add version\n",
            "2. Undo\n",
            "3. Redo\n",
            "4. Show current version\n",
            "5. Show timeline\n",
            "6. Back to main menu\n",
            "Choose an option: 3\n",
            "Redo: Version 3 @ 2025-10-08T12:58:49.634396159: sdlfdasfjsadf\n",
            "\n",
            "--- File: notes.txt ---\n",
            "1. Add version\n",
            "2. Undo\n",
            "3. Redo\n",
            "4. Show current version\n",
            "5. Show timeline\n",
            "6. Back to main menu\n",
            "Choose an option: 3\n",
            "Nothing to redo.\n",
            "\n",
            "--- File: notes.txt ---\n",
            "1. Add version\n",
            "2. Undo\n",
            "3. Redo\n",
            "4. Show current version\n",
            "5. Show timeline\n",
            "6. Back to main menu\n",
            "Choose an option: 1\n",
            "Enter content: dfsafdsfdsfsdfdsfdsfsdf\n",
            "Added: Version 4 @ 2025-10-08T12:59:32.166347734: dfsafdsfdsfsdfdsfdsfsdf\n",
            "\n",
            "--- File: notes.txt ---\n",
            "1. Add version\n",
            "2. Undo\n",
            "3. Redo\n",
            "4. Show current version\n",
            "5. Show timeline\n",
            "6. Back to main menu\n",
            "Choose an option: 9\n",
            "Invalid choice.\n",
            "\n",
            "--- File: notes.txt ---\n",
            "1. Add version\n",
            "2. Undo\n",
            "3. Redo\n",
            "4. Show current version\n",
            "5. Show timeline\n",
            "6. Back to main menu\n",
            "Choose an option: 5\n",
            "\n",
            "--- Timeline ---\n",
            "Version 1: 2025-10-08T12:58:19.785757053\n",
            "Version 2: 2025-10-08T12:58:19.785865792\n",
            "Version 3: 2025-10-08T12:58:49.634396159\n",
            "Version 4: 2025-10-08T12:59:32.166347734\n",
            "----------------\n",
            "\n",
            "\n",
            "--- File: notes.txt ---\n",
            "1. Add version\n",
            "2. Undo\n",
            "3. Redo\n",
            "4. Show current version\n",
            "5. Show timeline\n",
            "6. Back to main menu\n",
            "Choose an option: "
          ]
        }
      ]
    },
    {
      "cell_type": "code",
      "source": [],
      "metadata": {
        "id": "0W364qr3sRQr"
      },
      "execution_count": 6,
      "outputs": []
    }
  ]
}